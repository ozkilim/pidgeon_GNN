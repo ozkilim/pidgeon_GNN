{
 "cells": [
  {
   "cell_type": "code",
   "execution_count": 1,
   "metadata": {},
   "outputs": [],
   "source": [
    "# Create particles that are self propelled and move with the vicek model in 3D space.\n",
    "import numpy as np\n",
    "import matplotlib.pyplot as plt\n",
    "from celluloid import Camera\n",
    "from scipy import spatial\n",
    "from matplotlib import cm"
   ]
  },
  {
   "cell_type": "code",
   "execution_count": 2,
   "metadata": {},
   "outputs": [],
   "source": [
    "# Vicek perameters:\n",
    "r = 200 #radius around particle \n",
    "noise = 0.25 # noise in the system \n",
    "v=20 #velocity m/s\n",
    "n = 6"
   ]
  },
  {
   "cell_type": "code",
   "execution_count": 3,
   "metadata": {},
   "outputs": [],
   "source": [
    "# Initialisation of the problem\n",
    "\n",
    "data_mat = np.zeros((6,n)) #positions of each particle shape(3,n) for 2D simulation.\n",
    "data_mat[0,:] = np.random.normal(0,1,size=n) #x position set to match real birds data.\n",
    "data_mat[1,:] = np.random.normal(0,1, size=n) #y position\n",
    "data_mat[2,:] = np.random.normal(0,1, size=n) #z position\n",
    "data_mat[3,:] = np.deg2rad(np.random.normal(50,55,size=n)) #theta\n",
    "data_mat[4,:] = np.deg2rad(np.random.normal(0,5,size=n)) #alpha\n",
    "data_mat[5,:] = np.ones(n) #velocities\n",
    "\n",
    "def vicek_step(data_mat):\n",
    "    # create distance adjacency matrix for each particle\n",
    "    points = np.c_[data_mat[0,:],data_mat[1,:],data_mat[2,:]]\n",
    "    tree = spatial.cKDTree(points)\n",
    "\n",
    "    for i in range(len(data_mat)):\n",
    "        point_i = data_mat[0:3,i]\n",
    "        neibors = tree.query_ball_point(point_i, r) #the index of the neibors in the radius r \n",
    "        neibors.append(i) # include the particle of interest also\n",
    "        neibors = np.array(neibors)\n",
    "        new_theta = np.mean(data_mat[3,neibors]) + np.random.normal(0,noise) #get new angle as the mean of the neigbors anlges + the noise   \n",
    "        new_alpha = np.mean(data_mat[4,neibors]) + np.random.normal(0,noise) #get new angle as the mean of the neigbors anlges + the noise   \n",
    "        # update angles\n",
    "        data_mat[3,i] = new_theta\n",
    "        data_mat[4,i] = new_alpha\n",
    "\n",
    "    # weird effect that if 0 and 360 mean they make 180 which is not correct..is this effect strange/need to be accounted for?\n",
    "    # fix this then try to train GNN to redescover the rules? how woul dit?.... what would be the messages passed...? need to think...\n",
    "\n",
    "    data_mat[0,:] = data_mat[0,:] + v*np.cos(data_mat[3,:])*np.sin(data_mat[4,:]) #update X coords\n",
    "    data_mat[1,:] = data_mat[1,:] + v*np.sin(data_mat[3,:])*np.sin(data_mat[4,:]) #update Y coords\n",
    "    data_mat[2,:] = data_mat[2,:] + v*np.cos(data_mat[4,:]) #update Z coords\n",
    "\n",
    "    # normalise data , create velocity and acceelrations coordiantes. \n",
    "\n",
    "    return data_mat"
   ]
  },
  {
   "cell_type": "code",
   "execution_count": 4,
   "metadata": {},
   "outputs": [
    {
     "data": {
      "image/png": "[encoded data removed]",
      "text/plain": [
       "<Figure size 432x288 with 1 Axes>"
      ]
     },
     "metadata": {
      "needs_background": "light"
     },
     "output_type": "display_data"
    }
   ],
   "source": [
    "fig = plt.figure()\n",
    "camera = Camera(fig)\n",
    "colors = cm.get_cmap('Accent')\n",
    "\n",
    "for j in range(500):\n",
    "    data_mat = vicek_step(data_mat)\n",
    "    plt.scatter(data_mat[0,:],data_mat[1,:],color=colors(0))\n",
    "    # plt.xlim(-60,60)\n",
    "    # plt.ylim(-60,60)\n",
    "\n",
    "    camera.snap()\n",
    "    \n",
    "from IPython.display import HTML\n",
    "HTML(camera.animate().to_jshtml())\n",
    "\n",
    "animation = camera.animate()\n",
    "animation.save('../animations/vicsek_noise0_25_radius_200.gif',fps=50)"
   ]
  },
  {
   "cell_type": "code",
   "execution_count": 5,
   "metadata": {},
   "outputs": [],
   "source": [
    "# make some hierarchy and make the angles align more with higher hierarchy birds... to keep the flock together. \n",
    "# Make the speeds get adjusted?\n",
    "\n",
    "# make 1000 of these with shape as expected with the simulation and see if its in some way learnable.. maybe the noise?."
   ]
  }
 ],
 "metadata": {
  "interpreter": {
   "hash": "916dbcbb3f70747c44a77c7bcd40155683ae19c65e1c03b4aa3499c5328201f1"
  },
  "kernelspec": {
   "display_name": "Python 3.8.10 64-bit",
   "name": "python3"
  },
  "language_info": {
   "codemirror_mode": {
    "name": "ipython",
    "version": 3
   },
   "file_extension": ".py",
   "mimetype": "text/x-python",
   "name": "python",
   "nbconvert_exporter": "python",
   "pygments_lexer": "ipython3",
   "version": "3.8.10"
  },
  "orig_nbformat": 4,
  "vscode": {
   "interpreter": {
    "hash": "31f2aee4e71d21fbe5cf8b01ff0e069b9275f58929596ceb00d14d90e3e16cd6"
   }
  }
 },
 "nbformat": 4,
 "nbformat_minor": 2
}
